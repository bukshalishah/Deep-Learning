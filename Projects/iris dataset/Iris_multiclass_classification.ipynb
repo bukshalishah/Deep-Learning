{
  "nbformat": 4,
  "nbformat_minor": 0,
  "metadata": {
    "colab": {
      "name": "Iris_multiclass_classification.ipynb",
      "version": "0.3.2",
      "provenance": [],
      "collapsed_sections": []
    },
    "kernelspec": {
      "name": "python3",
      "display_name": "Python 3"
    },
    "accelerator": "TPU"
  },
  "cells": [
    {
      "metadata": {
        "id": "kUHFxcW6X97V",
        "colab_type": "code",
        "colab": {
          "base_uri": "https://localhost:8080/",
          "height": 34
        },
        "outputId": "70452266-7109-4779-b566-fe1d3b6d5f7e"
      },
      "cell_type": "code",
      "source": [
        "import numpy as np\n",
        "import pandas as pd\n",
        "from keras.utils import to_categorical\n",
        "from keras import models\n",
        "from keras import layers\n",
        "from keras.wrappers.scikit_learn import KerasClassifier\n",
        "from keras.utils import np_utils\n",
        "from sklearn.model_selection import cross_val_score\n",
        "from sklearn.model_selection import KFold\n",
        "from sklearn.preprocessing import LabelEncoder\n",
        "from sklearn.pipeline import Pipeline"
      ],
      "execution_count": 1,
      "outputs": [
        {
          "output_type": "stream",
          "text": [
            "Using TensorFlow backend.\n"
          ],
          "name": "stderr"
        }
      ]
    },
    {
      "metadata": {
        "id": "w1cDTCqMYIFX",
        "colab_type": "code",
        "colab": {}
      },
      "cell_type": "code",
      "source": [
        "# fix random seed for reproducibility\n",
        "\n",
        "seed = 7\n",
        "np.random.seed(seed)"
      ],
      "execution_count": 0,
      "outputs": []
    },
    {
      "metadata": {
        "id": "_eoS_mAMYa7-",
        "colab_type": "code",
        "colab": {}
      },
      "cell_type": "code",
      "source": [
        "# load dataset\n",
        "\n",
        "dataframe = pd.read_csv(\"iris.csv\", header=None)\n",
        "dataset = dataframe.values"
      ],
      "execution_count": 0,
      "outputs": []
    },
    {
      "metadata": {
        "id": "Bmb3FR67YcwI",
        "colab_type": "code",
        "outputId": "f8a3d251-94e6-4836-e105-7e0241dcb110",
        "colab": {
          "base_uri": "https://localhost:8080/",
          "height": 2537
        }
      },
      "cell_type": "code",
      "source": [
        "dataset"
      ],
      "execution_count": 4,
      "outputs": [
        {
          "output_type": "execute_result",
          "data": {
            "text/plain": [
              "array([[5.1, 3.5, 1.4, 0.2, 'Iris-setosa'],\n",
              "       [4.9, 3.0, 1.4, 0.2, 'Iris-setosa'],\n",
              "       [4.7, 3.2, 1.3, 0.2, 'Iris-setosa'],\n",
              "       [4.6, 3.1, 1.5, 0.2, 'Iris-setosa'],\n",
              "       [5.0, 3.6, 1.4, 0.2, 'Iris-setosa'],\n",
              "       [5.4, 3.9, 1.7, 0.4, 'Iris-setosa'],\n",
              "       [4.6, 3.4, 1.4, 0.3, 'Iris-setosa'],\n",
              "       [5.0, 3.4, 1.5, 0.2, 'Iris-setosa'],\n",
              "       [4.4, 2.9, 1.4, 0.2, 'Iris-setosa'],\n",
              "       [4.9, 3.1, 1.5, 0.1, 'Iris-setosa'],\n",
              "       [5.4, 3.7, 1.5, 0.2, 'Iris-setosa'],\n",
              "       [4.8, 3.4, 1.6, 0.2, 'Iris-setosa'],\n",
              "       [4.8, 3.0, 1.4, 0.1, 'Iris-setosa'],\n",
              "       [4.3, 3.0, 1.1, 0.1, 'Iris-setosa'],\n",
              "       [5.8, 4.0, 1.2, 0.2, 'Iris-setosa'],\n",
              "       [5.7, 4.4, 1.5, 0.4, 'Iris-setosa'],\n",
              "       [5.4, 3.9, 1.3, 0.4, 'Iris-setosa'],\n",
              "       [5.1, 3.5, 1.4, 0.3, 'Iris-setosa'],\n",
              "       [5.7, 3.8, 1.7, 0.3, 'Iris-setosa'],\n",
              "       [5.1, 3.8, 1.5, 0.3, 'Iris-setosa'],\n",
              "       [5.4, 3.4, 1.7, 0.2, 'Iris-setosa'],\n",
              "       [5.1, 3.7, 1.5, 0.4, 'Iris-setosa'],\n",
              "       [4.6, 3.6, 1.0, 0.2, 'Iris-setosa'],\n",
              "       [5.1, 3.3, 1.7, 0.5, 'Iris-setosa'],\n",
              "       [4.8, 3.4, 1.9, 0.2, 'Iris-setosa'],\n",
              "       [5.0, 3.0, 1.6, 0.2, 'Iris-setosa'],\n",
              "       [5.0, 3.4, 1.6, 0.4, 'Iris-setosa'],\n",
              "       [5.2, 3.5, 1.5, 0.2, 'Iris-setosa'],\n",
              "       [5.2, 3.4, 1.4, 0.2, 'Iris-setosa'],\n",
              "       [4.7, 3.2, 1.6, 0.2, 'Iris-setosa'],\n",
              "       [4.8, 3.1, 1.6, 0.2, 'Iris-setosa'],\n",
              "       [5.4, 3.4, 1.5, 0.4, 'Iris-setosa'],\n",
              "       [5.2, 4.1, 1.5, 0.1, 'Iris-setosa'],\n",
              "       [5.5, 4.2, 1.4, 0.2, 'Iris-setosa'],\n",
              "       [4.9, 3.1, 1.5, 0.1, 'Iris-setosa'],\n",
              "       [5.0, 3.2, 1.2, 0.2, 'Iris-setosa'],\n",
              "       [5.5, 3.5, 1.3, 0.2, 'Iris-setosa'],\n",
              "       [4.9, 3.1, 1.5, 0.1, 'Iris-setosa'],\n",
              "       [4.4, 3.0, 1.3, 0.2, 'Iris-setosa'],\n",
              "       [5.1, 3.4, 1.5, 0.2, 'Iris-setosa'],\n",
              "       [5.0, 3.5, 1.3, 0.3, 'Iris-setosa'],\n",
              "       [4.5, 2.3, 1.3, 0.3, 'Iris-setosa'],\n",
              "       [4.4, 3.2, 1.3, 0.2, 'Iris-setosa'],\n",
              "       [5.0, 3.5, 1.6, 0.6, 'Iris-setosa'],\n",
              "       [5.1, 3.8, 1.9, 0.4, 'Iris-setosa'],\n",
              "       [4.8, 3.0, 1.4, 0.3, 'Iris-setosa'],\n",
              "       [5.1, 3.8, 1.6, 0.2, 'Iris-setosa'],\n",
              "       [4.6, 3.2, 1.4, 0.2, 'Iris-setosa'],\n",
              "       [5.3, 3.7, 1.5, 0.2, 'Iris-setosa'],\n",
              "       [5.0, 3.3, 1.4, 0.2, 'Iris-setosa'],\n",
              "       [7.0, 3.2, 4.7, 1.4, 'Iris-versicolor'],\n",
              "       [6.4, 3.2, 4.5, 1.5, 'Iris-versicolor'],\n",
              "       [6.9, 3.1, 4.9, 1.5, 'Iris-versicolor'],\n",
              "       [5.5, 2.3, 4.0, 1.3, 'Iris-versicolor'],\n",
              "       [6.5, 2.8, 4.6, 1.5, 'Iris-versicolor'],\n",
              "       [5.7, 2.8, 4.5, 1.3, 'Iris-versicolor'],\n",
              "       [6.3, 3.3, 4.7, 1.6, 'Iris-versicolor'],\n",
              "       [4.9, 2.4, 3.3, 1.0, 'Iris-versicolor'],\n",
              "       [6.6, 2.9, 4.6, 1.3, 'Iris-versicolor'],\n",
              "       [5.2, 2.7, 3.9, 1.4, 'Iris-versicolor'],\n",
              "       [5.0, 2.0, 3.5, 1.0, 'Iris-versicolor'],\n",
              "       [5.9, 3.0, 4.2, 1.5, 'Iris-versicolor'],\n",
              "       [6.0, 2.2, 4.0, 1.0, 'Iris-versicolor'],\n",
              "       [6.1, 2.9, 4.7, 1.4, 'Iris-versicolor'],\n",
              "       [5.6, 2.9, 3.6, 1.3, 'Iris-versicolor'],\n",
              "       [6.7, 3.1, 4.4, 1.4, 'Iris-versicolor'],\n",
              "       [5.6, 3.0, 4.5, 1.5, 'Iris-versicolor'],\n",
              "       [5.8, 2.7, 4.1, 1.0, 'Iris-versicolor'],\n",
              "       [6.2, 2.2, 4.5, 1.5, 'Iris-versicolor'],\n",
              "       [5.6, 2.5, 3.9, 1.1, 'Iris-versicolor'],\n",
              "       [5.9, 3.2, 4.8, 1.8, 'Iris-versicolor'],\n",
              "       [6.1, 2.8, 4.0, 1.3, 'Iris-versicolor'],\n",
              "       [6.3, 2.5, 4.9, 1.5, 'Iris-versicolor'],\n",
              "       [6.1, 2.8, 4.7, 1.2, 'Iris-versicolor'],\n",
              "       [6.4, 2.9, 4.3, 1.3, 'Iris-versicolor'],\n",
              "       [6.6, 3.0, 4.4, 1.4, 'Iris-versicolor'],\n",
              "       [6.8, 2.8, 4.8, 1.4, 'Iris-versicolor'],\n",
              "       [6.7, 3.0, 5.0, 1.7, 'Iris-versicolor'],\n",
              "       [6.0, 2.9, 4.5, 1.5, 'Iris-versicolor'],\n",
              "       [5.7, 2.6, 3.5, 1.0, 'Iris-versicolor'],\n",
              "       [5.5, 2.4, 3.8, 1.1, 'Iris-versicolor'],\n",
              "       [5.5, 2.4, 3.7, 1.0, 'Iris-versicolor'],\n",
              "       [5.8, 2.7, 3.9, 1.2, 'Iris-versicolor'],\n",
              "       [6.0, 2.7, 5.1, 1.6, 'Iris-versicolor'],\n",
              "       [5.4, 3.0, 4.5, 1.5, 'Iris-versicolor'],\n",
              "       [6.0, 3.4, 4.5, 1.6, 'Iris-versicolor'],\n",
              "       [6.7, 3.1, 4.7, 1.5, 'Iris-versicolor'],\n",
              "       [6.3, 2.3, 4.4, 1.3, 'Iris-versicolor'],\n",
              "       [5.6, 3.0, 4.1, 1.3, 'Iris-versicolor'],\n",
              "       [5.5, 2.5, 4.0, 1.3, 'Iris-versicolor'],\n",
              "       [5.5, 2.6, 4.4, 1.2, 'Iris-versicolor'],\n",
              "       [6.1, 3.0, 4.6, 1.4, 'Iris-versicolor'],\n",
              "       [5.8, 2.6, 4.0, 1.2, 'Iris-versicolor'],\n",
              "       [5.0, 2.3, 3.3, 1.0, 'Iris-versicolor'],\n",
              "       [5.6, 2.7, 4.2, 1.3, 'Iris-versicolor'],\n",
              "       [5.7, 3.0, 4.2, 1.2, 'Iris-versicolor'],\n",
              "       [5.7, 2.9, 4.2, 1.3, 'Iris-versicolor'],\n",
              "       [6.2, 2.9, 4.3, 1.3, 'Iris-versicolor'],\n",
              "       [5.1, 2.5, 3.0, 1.1, 'Iris-versicolor'],\n",
              "       [5.7, 2.8, 4.1, 1.3, 'Iris-versicolor'],\n",
              "       [6.3, 3.3, 6.0, 2.5, 'Iris-virginica'],\n",
              "       [5.8, 2.7, 5.1, 1.9, 'Iris-virginica'],\n",
              "       [7.1, 3.0, 5.9, 2.1, 'Iris-virginica'],\n",
              "       [6.3, 2.9, 5.6, 1.8, 'Iris-virginica'],\n",
              "       [6.5, 3.0, 5.8, 2.2, 'Iris-virginica'],\n",
              "       [7.6, 3.0, 6.6, 2.1, 'Iris-virginica'],\n",
              "       [4.9, 2.5, 4.5, 1.7, 'Iris-virginica'],\n",
              "       [7.3, 2.9, 6.3, 1.8, 'Iris-virginica'],\n",
              "       [6.7, 2.5, 5.8, 1.8, 'Iris-virginica'],\n",
              "       [7.2, 3.6, 6.1, 2.5, 'Iris-virginica'],\n",
              "       [6.5, 3.2, 5.1, 2.0, 'Iris-virginica'],\n",
              "       [6.4, 2.7, 5.3, 1.9, 'Iris-virginica'],\n",
              "       [6.8, 3.0, 5.5, 2.1, 'Iris-virginica'],\n",
              "       [5.7, 2.5, 5.0, 2.0, 'Iris-virginica'],\n",
              "       [5.8, 2.8, 5.1, 2.4, 'Iris-virginica'],\n",
              "       [6.4, 3.2, 5.3, 2.3, 'Iris-virginica'],\n",
              "       [6.5, 3.0, 5.5, 1.8, 'Iris-virginica'],\n",
              "       [7.7, 3.8, 6.7, 2.2, 'Iris-virginica'],\n",
              "       [7.7, 2.6, 6.9, 2.3, 'Iris-virginica'],\n",
              "       [6.0, 2.2, 5.0, 1.5, 'Iris-virginica'],\n",
              "       [6.9, 3.2, 5.7, 2.3, 'Iris-virginica'],\n",
              "       [5.6, 2.8, 4.9, 2.0, 'Iris-virginica'],\n",
              "       [7.7, 2.8, 6.7, 2.0, 'Iris-virginica'],\n",
              "       [6.3, 2.7, 4.9, 1.8, 'Iris-virginica'],\n",
              "       [6.7, 3.3, 5.7, 2.1, 'Iris-virginica'],\n",
              "       [7.2, 3.2, 6.0, 1.8, 'Iris-virginica'],\n",
              "       [6.2, 2.8, 4.8, 1.8, 'Iris-virginica'],\n",
              "       [6.1, 3.0, 4.9, 1.8, 'Iris-virginica'],\n",
              "       [6.4, 2.8, 5.6, 2.1, 'Iris-virginica'],\n",
              "       [7.2, 3.0, 5.8, 1.6, 'Iris-virginica'],\n",
              "       [7.4, 2.8, 6.1, 1.9, 'Iris-virginica'],\n",
              "       [7.9, 3.8, 6.4, 2.0, 'Iris-virginica'],\n",
              "       [6.4, 2.8, 5.6, 2.2, 'Iris-virginica'],\n",
              "       [6.3, 2.8, 5.1, 1.5, 'Iris-virginica'],\n",
              "       [6.1, 2.6, 5.6, 1.4, 'Iris-virginica'],\n",
              "       [7.7, 3.0, 6.1, 2.3, 'Iris-virginica'],\n",
              "       [6.3, 3.4, 5.6, 2.4, 'Iris-virginica'],\n",
              "       [6.4, 3.1, 5.5, 1.8, 'Iris-virginica'],\n",
              "       [6.0, 3.0, 4.8, 1.8, 'Iris-virginica'],\n",
              "       [6.9, 3.1, 5.4, 2.1, 'Iris-virginica'],\n",
              "       [6.7, 3.1, 5.6, 2.4, 'Iris-virginica'],\n",
              "       [6.9, 3.1, 5.1, 2.3, 'Iris-virginica'],\n",
              "       [5.8, 2.7, 5.1, 1.9, 'Iris-virginica'],\n",
              "       [6.8, 3.2, 5.9, 2.3, 'Iris-virginica'],\n",
              "       [6.7, 3.3, 5.7, 2.5, 'Iris-virginica'],\n",
              "       [6.7, 3.0, 5.2, 2.3, 'Iris-virginica'],\n",
              "       [6.3, 2.5, 5.0, 1.9, 'Iris-virginica'],\n",
              "       [6.5, 3.0, 5.2, 2.0, 'Iris-virginica'],\n",
              "       [6.2, 3.4, 5.4, 2.3, 'Iris-virginica'],\n",
              "       [5.9, 3.0, 5.1, 1.8, 'Iris-virginica']], dtype=object)"
            ]
          },
          "metadata": {
            "tags": []
          },
          "execution_count": 4
        }
      ]
    },
    {
      "metadata": {
        "id": "32djgt6zW2ll",
        "colab_type": "code",
        "outputId": "d99bb584-5b39-459a-d686-b79cae739f74",
        "colab": {
          "base_uri": "https://localhost:8080/",
          "height": 34
        }
      },
      "cell_type": "code",
      "source": [
        "dataset.ndim"
      ],
      "execution_count": 5,
      "outputs": [
        {
          "output_type": "execute_result",
          "data": {
            "text/plain": [
              "2"
            ]
          },
          "metadata": {
            "tags": []
          },
          "execution_count": 5
        }
      ]
    },
    {
      "metadata": {
        "id": "XCaTrd2Yb9DJ",
        "colab_type": "code",
        "colab": {}
      },
      "cell_type": "code",
      "source": [
        "X = dataset[:,0:4].astype(float)\n",
        "Y = dataset[:,4]"
      ],
      "execution_count": 0,
      "outputs": []
    },
    {
      "metadata": {
        "id": "2H6sH1WlcJ2R",
        "colab_type": "code",
        "outputId": "63920a13-74d3-4704-93c9-04489592d7e5",
        "colab": {
          "base_uri": "https://localhost:8080/",
          "height": 34
        }
      },
      "cell_type": "code",
      "source": [
        "X.shape"
      ],
      "execution_count": 7,
      "outputs": [
        {
          "output_type": "execute_result",
          "data": {
            "text/plain": [
              "(150, 4)"
            ]
          },
          "metadata": {
            "tags": []
          },
          "execution_count": 7
        }
      ]
    },
    {
      "metadata": {
        "id": "34V5vZOLcKeJ",
        "colab_type": "code",
        "outputId": "98eb2654-2c31-4a05-8996-e0e09efe431e",
        "colab": {
          "base_uri": "https://localhost:8080/",
          "height": 790
        }
      },
      "cell_type": "code",
      "source": [
        "Y"
      ],
      "execution_count": 8,
      "outputs": [
        {
          "output_type": "execute_result",
          "data": {
            "text/plain": [
              "array(['Iris-setosa', 'Iris-setosa', 'Iris-setosa', 'Iris-setosa',\n",
              "       'Iris-setosa', 'Iris-setosa', 'Iris-setosa', 'Iris-setosa',\n",
              "       'Iris-setosa', 'Iris-setosa', 'Iris-setosa', 'Iris-setosa',\n",
              "       'Iris-setosa', 'Iris-setosa', 'Iris-setosa', 'Iris-setosa',\n",
              "       'Iris-setosa', 'Iris-setosa', 'Iris-setosa', 'Iris-setosa',\n",
              "       'Iris-setosa', 'Iris-setosa', 'Iris-setosa', 'Iris-setosa',\n",
              "       'Iris-setosa', 'Iris-setosa', 'Iris-setosa', 'Iris-setosa',\n",
              "       'Iris-setosa', 'Iris-setosa', 'Iris-setosa', 'Iris-setosa',\n",
              "       'Iris-setosa', 'Iris-setosa', 'Iris-setosa', 'Iris-setosa',\n",
              "       'Iris-setosa', 'Iris-setosa', 'Iris-setosa', 'Iris-setosa',\n",
              "       'Iris-setosa', 'Iris-setosa', 'Iris-setosa', 'Iris-setosa',\n",
              "       'Iris-setosa', 'Iris-setosa', 'Iris-setosa', 'Iris-setosa',\n",
              "       'Iris-setosa', 'Iris-setosa', 'Iris-versicolor', 'Iris-versicolor',\n",
              "       'Iris-versicolor', 'Iris-versicolor', 'Iris-versicolor',\n",
              "       'Iris-versicolor', 'Iris-versicolor', 'Iris-versicolor',\n",
              "       'Iris-versicolor', 'Iris-versicolor', 'Iris-versicolor',\n",
              "       'Iris-versicolor', 'Iris-versicolor', 'Iris-versicolor',\n",
              "       'Iris-versicolor', 'Iris-versicolor', 'Iris-versicolor',\n",
              "       'Iris-versicolor', 'Iris-versicolor', 'Iris-versicolor',\n",
              "       'Iris-versicolor', 'Iris-versicolor', 'Iris-versicolor',\n",
              "       'Iris-versicolor', 'Iris-versicolor', 'Iris-versicolor',\n",
              "       'Iris-versicolor', 'Iris-versicolor', 'Iris-versicolor',\n",
              "       'Iris-versicolor', 'Iris-versicolor', 'Iris-versicolor',\n",
              "       'Iris-versicolor', 'Iris-versicolor', 'Iris-versicolor',\n",
              "       'Iris-versicolor', 'Iris-versicolor', 'Iris-versicolor',\n",
              "       'Iris-versicolor', 'Iris-versicolor', 'Iris-versicolor',\n",
              "       'Iris-versicolor', 'Iris-versicolor', 'Iris-versicolor',\n",
              "       'Iris-versicolor', 'Iris-versicolor', 'Iris-versicolor',\n",
              "       'Iris-versicolor', 'Iris-versicolor', 'Iris-versicolor',\n",
              "       'Iris-virginica', 'Iris-virginica', 'Iris-virginica',\n",
              "       'Iris-virginica', 'Iris-virginica', 'Iris-virginica',\n",
              "       'Iris-virginica', 'Iris-virginica', 'Iris-virginica',\n",
              "       'Iris-virginica', 'Iris-virginica', 'Iris-virginica',\n",
              "       'Iris-virginica', 'Iris-virginica', 'Iris-virginica',\n",
              "       'Iris-virginica', 'Iris-virginica', 'Iris-virginica',\n",
              "       'Iris-virginica', 'Iris-virginica', 'Iris-virginica',\n",
              "       'Iris-virginica', 'Iris-virginica', 'Iris-virginica',\n",
              "       'Iris-virginica', 'Iris-virginica', 'Iris-virginica',\n",
              "       'Iris-virginica', 'Iris-virginica', 'Iris-virginica',\n",
              "       'Iris-virginica', 'Iris-virginica', 'Iris-virginica',\n",
              "       'Iris-virginica', 'Iris-virginica', 'Iris-virginica',\n",
              "       'Iris-virginica', 'Iris-virginica', 'Iris-virginica',\n",
              "       'Iris-virginica', 'Iris-virginica', 'Iris-virginica',\n",
              "       'Iris-virginica', 'Iris-virginica', 'Iris-virginica',\n",
              "       'Iris-virginica', 'Iris-virginica', 'Iris-virginica',\n",
              "       'Iris-virginica', 'Iris-virginica'], dtype=object)"
            ]
          },
          "metadata": {
            "tags": []
          },
          "execution_count": 8
        }
      ]
    },
    {
      "metadata": {
        "id": "FEiK-1G9cfcR",
        "colab_type": "code",
        "colab": {}
      },
      "cell_type": "code",
      "source": [
        "# encode class values as integers\n",
        "encoder = LabelEncoder()\n",
        "encoder.fit(Y)\n",
        "encoded_Y = encoder.transform(Y)\n",
        "# convert integers to dummy variables (i.e. one hot encoded)\n",
        "dummy_y = to_categorical(encoded_Y)"
      ],
      "execution_count": 0,
      "outputs": []
    },
    {
      "metadata": {
        "id": "fIr_quvSdSM5",
        "colab_type": "code",
        "outputId": "714aceec-ff5c-4717-c992-c740e1de2ce0",
        "colab": {
          "base_uri": "https://localhost:8080/",
          "height": 2537
        }
      },
      "cell_type": "code",
      "source": [
        "dummy_y"
      ],
      "execution_count": 10,
      "outputs": [
        {
          "output_type": "execute_result",
          "data": {
            "text/plain": [
              "array([[1., 0., 0.],\n",
              "       [1., 0., 0.],\n",
              "       [1., 0., 0.],\n",
              "       [1., 0., 0.],\n",
              "       [1., 0., 0.],\n",
              "       [1., 0., 0.],\n",
              "       [1., 0., 0.],\n",
              "       [1., 0., 0.],\n",
              "       [1., 0., 0.],\n",
              "       [1., 0., 0.],\n",
              "       [1., 0., 0.],\n",
              "       [1., 0., 0.],\n",
              "       [1., 0., 0.],\n",
              "       [1., 0., 0.],\n",
              "       [1., 0., 0.],\n",
              "       [1., 0., 0.],\n",
              "       [1., 0., 0.],\n",
              "       [1., 0., 0.],\n",
              "       [1., 0., 0.],\n",
              "       [1., 0., 0.],\n",
              "       [1., 0., 0.],\n",
              "       [1., 0., 0.],\n",
              "       [1., 0., 0.],\n",
              "       [1., 0., 0.],\n",
              "       [1., 0., 0.],\n",
              "       [1., 0., 0.],\n",
              "       [1., 0., 0.],\n",
              "       [1., 0., 0.],\n",
              "       [1., 0., 0.],\n",
              "       [1., 0., 0.],\n",
              "       [1., 0., 0.],\n",
              "       [1., 0., 0.],\n",
              "       [1., 0., 0.],\n",
              "       [1., 0., 0.],\n",
              "       [1., 0., 0.],\n",
              "       [1., 0., 0.],\n",
              "       [1., 0., 0.],\n",
              "       [1., 0., 0.],\n",
              "       [1., 0., 0.],\n",
              "       [1., 0., 0.],\n",
              "       [1., 0., 0.],\n",
              "       [1., 0., 0.],\n",
              "       [1., 0., 0.],\n",
              "       [1., 0., 0.],\n",
              "       [1., 0., 0.],\n",
              "       [1., 0., 0.],\n",
              "       [1., 0., 0.],\n",
              "       [1., 0., 0.],\n",
              "       [1., 0., 0.],\n",
              "       [1., 0., 0.],\n",
              "       [0., 1., 0.],\n",
              "       [0., 1., 0.],\n",
              "       [0., 1., 0.],\n",
              "       [0., 1., 0.],\n",
              "       [0., 1., 0.],\n",
              "       [0., 1., 0.],\n",
              "       [0., 1., 0.],\n",
              "       [0., 1., 0.],\n",
              "       [0., 1., 0.],\n",
              "       [0., 1., 0.],\n",
              "       [0., 1., 0.],\n",
              "       [0., 1., 0.],\n",
              "       [0., 1., 0.],\n",
              "       [0., 1., 0.],\n",
              "       [0., 1., 0.],\n",
              "       [0., 1., 0.],\n",
              "       [0., 1., 0.],\n",
              "       [0., 1., 0.],\n",
              "       [0., 1., 0.],\n",
              "       [0., 1., 0.],\n",
              "       [0., 1., 0.],\n",
              "       [0., 1., 0.],\n",
              "       [0., 1., 0.],\n",
              "       [0., 1., 0.],\n",
              "       [0., 1., 0.],\n",
              "       [0., 1., 0.],\n",
              "       [0., 1., 0.],\n",
              "       [0., 1., 0.],\n",
              "       [0., 1., 0.],\n",
              "       [0., 1., 0.],\n",
              "       [0., 1., 0.],\n",
              "       [0., 1., 0.],\n",
              "       [0., 1., 0.],\n",
              "       [0., 1., 0.],\n",
              "       [0., 1., 0.],\n",
              "       [0., 1., 0.],\n",
              "       [0., 1., 0.],\n",
              "       [0., 1., 0.],\n",
              "       [0., 1., 0.],\n",
              "       [0., 1., 0.],\n",
              "       [0., 1., 0.],\n",
              "       [0., 1., 0.],\n",
              "       [0., 1., 0.],\n",
              "       [0., 1., 0.],\n",
              "       [0., 1., 0.],\n",
              "       [0., 1., 0.],\n",
              "       [0., 1., 0.],\n",
              "       [0., 1., 0.],\n",
              "       [0., 1., 0.],\n",
              "       [0., 1., 0.],\n",
              "       [0., 0., 1.],\n",
              "       [0., 0., 1.],\n",
              "       [0., 0., 1.],\n",
              "       [0., 0., 1.],\n",
              "       [0., 0., 1.],\n",
              "       [0., 0., 1.],\n",
              "       [0., 0., 1.],\n",
              "       [0., 0., 1.],\n",
              "       [0., 0., 1.],\n",
              "       [0., 0., 1.],\n",
              "       [0., 0., 1.],\n",
              "       [0., 0., 1.],\n",
              "       [0., 0., 1.],\n",
              "       [0., 0., 1.],\n",
              "       [0., 0., 1.],\n",
              "       [0., 0., 1.],\n",
              "       [0., 0., 1.],\n",
              "       [0., 0., 1.],\n",
              "       [0., 0., 1.],\n",
              "       [0., 0., 1.],\n",
              "       [0., 0., 1.],\n",
              "       [0., 0., 1.],\n",
              "       [0., 0., 1.],\n",
              "       [0., 0., 1.],\n",
              "       [0., 0., 1.],\n",
              "       [0., 0., 1.],\n",
              "       [0., 0., 1.],\n",
              "       [0., 0., 1.],\n",
              "       [0., 0., 1.],\n",
              "       [0., 0., 1.],\n",
              "       [0., 0., 1.],\n",
              "       [0., 0., 1.],\n",
              "       [0., 0., 1.],\n",
              "       [0., 0., 1.],\n",
              "       [0., 0., 1.],\n",
              "       [0., 0., 1.],\n",
              "       [0., 0., 1.],\n",
              "       [0., 0., 1.],\n",
              "       [0., 0., 1.],\n",
              "       [0., 0., 1.],\n",
              "       [0., 0., 1.],\n",
              "       [0., 0., 1.],\n",
              "       [0., 0., 1.],\n",
              "       [0., 0., 1.],\n",
              "       [0., 0., 1.],\n",
              "       [0., 0., 1.],\n",
              "       [0., 0., 1.],\n",
              "       [0., 0., 1.],\n",
              "       [0., 0., 1.],\n",
              "       [0., 0., 1.]], dtype=float32)"
            ]
          },
          "metadata": {
            "tags": []
          },
          "execution_count": 10
        }
      ]
    },
    {
      "metadata": {
        "id": "Qa_3vpCvdald",
        "colab_type": "code",
        "colab": {}
      },
      "cell_type": "code",
      "source": [
        "# define baseline model\n",
        "def baseline_model():\n",
        "\t# create model\n",
        "  model = models.Sequential()\n",
        "  model.add(layers.Dense(8, activation='relu',input_shape=(4,)))\n",
        "  model.add(layers.Dense(8, activation='relu'))\n",
        "  model.add(layers.Dense(3, activation='softmax'))\n",
        "\n",
        "\t# Compile model\n",
        "  model.compile(optimizer='Adam', loss='categorical_crossentropy', metrics=['accuracy'])\n",
        "\n",
        "  return model"
      ],
      "execution_count": 0,
      "outputs": []
    },
    {
      "metadata": {
        "id": "Gok1bXbrlCKQ",
        "colab_type": "code",
        "colab": {}
      },
      "cell_type": "code",
      "source": [
        "estimator = KerasClassifier(build_fn=baseline_model, epochs=200, batch_size=5, verbose=0)"
      ],
      "execution_count": 0,
      "outputs": []
    },
    {
      "metadata": {
        "id": "hMnF7C4tlTi9",
        "colab_type": "code",
        "outputId": "d0b73bd7-f796-4711-d494-6b37b541f576",
        "colab": {
          "base_uri": "https://localhost:8080/",
          "height": 154
        }
      },
      "cell_type": "code",
      "source": [
        "kfold = KFold(n_splits=10, shuffle=True, random_state=seed)\n",
        "results = cross_val_score(estimator, X, dummy_y, cv=kfold)\n",
        "print(\"Baseline: %.2f%% (%.2f%%)\" % (results.mean()*100, results.std()*100))"
      ],
      "execution_count": 13,
      "outputs": [
        {
          "output_type": "stream",
          "text": [
            "WARNING:tensorflow:From /usr/local/lib/python3.6/dist-packages/tensorflow/python/framework/op_def_library.py:263: colocate_with (from tensorflow.python.framework.ops) is deprecated and will be removed in a future version.\n",
            "Instructions for updating:\n",
            "Colocations handled automatically by placer.\n",
            "WARNING:tensorflow:From /usr/local/lib/python3.6/dist-packages/tensorflow/python/ops/math_ops.py:3066: to_int32 (from tensorflow.python.ops.math_ops) is deprecated and will be removed in a future version.\n",
            "Instructions for updating:\n",
            "Use tf.cast instead.\n",
            "Baseline: 97.33% (4.42%)\n"
          ],
          "name": "stdout"
        }
      ]
    },
    {
      "metadata": {
        "id": "H9hlbE-3mN_V",
        "colab_type": "code",
        "colab": {}
      },
      "cell_type": "code",
      "source": [
        ""
      ],
      "execution_count": 0,
      "outputs": []
    }
  ]
}