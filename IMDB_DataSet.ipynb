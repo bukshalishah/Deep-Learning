{
  "nbformat": 4,
  "nbformat_minor": 0,
  "metadata": {
    "colab": {
      "name": "IMDB DataSet.ipynb",
      "version": "0.3.2",
      "provenance": [],
      "collapsed_sections": [],
      "include_colab_link": true
    },
    "kernelspec": {
      "name": "python3",
      "display_name": "Python 3"
    }
  },
  "cells": [
    {
      "cell_type": "markdown",
      "metadata": {
        "id": "view-in-github",
        "colab_type": "text"
      },
      "source": [
        "<a href=\"https://colab.research.google.com/github/bukshalishah/Deep-Learning/blob/master/IMDB_DataSet.ipynb\" target=\"_parent\"><img src=\"https://colab.research.google.com/assets/colab-badge.svg\" alt=\"Open In Colab\"/></a>"
      ]
    },
    {
      "metadata": {
        "id": "m7bRO21z-7Q1",
        "colab_type": "code",
        "colab": {
          "base_uri": "https://localhost:8080/",
          "height": 34
        },
        "outputId": "975a803e-65b4-43c4-9d47-bd6ca900e85b"
      },
      "cell_type": "code",
      "source": [
        "from keras.datasets import imdb\n",
        "from keras import layers\n",
        "from keras import models\n",
        "from keras import activations\n",
        "from keras import optimizers\n",
        "from keras import losses\n",
        "from keras import metrics\n",
        "import numpy as np\n",
        "import matplotlib.pyplot as plt"
      ],
      "execution_count": 1,
      "outputs": [
        {
          "output_type": "stream",
          "text": [
            "Using TensorFlow backend.\n"
          ],
          "name": "stderr"
        }
      ]
    },
    {
      "metadata": {
        "id": "8jUwgFkJ_Z5f",
        "colab_type": "code",
        "colab": {}
      },
      "cell_type": "code",
      "source": [
        "(train_data, train_labels), (test_data, test_labels) = imdb.load_data(num_words=10000)"
      ],
      "execution_count": 0,
      "outputs": []
    },
    {
      "metadata": {
        "id": "tSYbQkHF_lj7",
        "colab_type": "code",
        "colab": {
          "base_uri": "https://localhost:8080/",
          "height": 34
        },
        "outputId": "ff136d49-e7af-4e5b-e0b1-37575f80f130"
      },
      "cell_type": "code",
      "source": [
        "max(max(sequence) for sequence in train_data)"
      ],
      "execution_count": 3,
      "outputs": [
        {
          "output_type": "execute_result",
          "data": {
            "text/plain": [
              "9999"
            ]
          },
          "metadata": {
            "tags": []
          },
          "execution_count": 3
        }
      ]
    },
    {
      "metadata": {
        "id": "mt7RigBl_rbz",
        "colab_type": "code",
        "colab": {}
      },
      "cell_type": "code",
      "source": [
        "# Decode\n",
        "\n",
        "word_index = imdb.get_word_index()\n",
        "reverse_word_index = dict([(value,key) for (key,value) in word_index.items()])\n",
        "\n",
        "decode_review = ' '.join([reverse_word_index.get(i -3, '?') for i in train_data[0]])"
      ],
      "execution_count": 0,
      "outputs": []
    },
    {
      "metadata": {
        "id": "VV3U4ss7Am4X",
        "colab_type": "code",
        "colab": {}
      },
      "cell_type": "code",
      "source": [
        "def vectorize_sequence(sequences, dimension=10000):\n",
        "  results = np.zeros((len(sequences), dimension))\n",
        "  for i, sequence in enumerate(sequences):\n",
        "    results[i, sequence] = 1\n",
        "  return results\n",
        "  "
      ],
      "execution_count": 0,
      "outputs": []
    },
    {
      "metadata": {
        "id": "_fJ62QDmIIcJ",
        "colab_type": "code",
        "colab": {}
      },
      "cell_type": "code",
      "source": [
        "x_train = vectorize_sequence(train_data)\n",
        "x_test  = vectorize_sequence(test_data)"
      ],
      "execution_count": 0,
      "outputs": []
    },
    {
      "metadata": {
        "id": "zGg8ZzikIQST",
        "colab_type": "code",
        "colab": {}
      },
      "cell_type": "code",
      "source": [
        "y_train = np.asarray(train_labels).astype('float32')\n",
        "y_test = np.asarray(test_labels).astype('float32')"
      ],
      "execution_count": 0,
      "outputs": []
    },
    {
      "metadata": {
        "id": "eyyVbMvOIezP",
        "colab_type": "code",
        "colab": {
          "base_uri": "https://localhost:8080/",
          "height": 87
        },
        "outputId": "1ae63216-add2-4134-efff-6428e122f45d"
      },
      "cell_type": "code",
      "source": [
        "model = models.Sequential()\n",
        "model.add(layers.Dense(16, activation='relu', input_shape=(10000,)))\n",
        "model.add(layers.Dense(16, activation='relu'))\n",
        "model.add(layers.Dense(1, activation='sigmoid'))"
      ],
      "execution_count": 8,
      "outputs": [
        {
          "output_type": "stream",
          "text": [
            "WARNING:tensorflow:From /usr/local/lib/python3.6/dist-packages/tensorflow/python/framework/op_def_library.py:263: colocate_with (from tensorflow.python.framework.ops) is deprecated and will be removed in a future version.\n",
            "Instructions for updating:\n",
            "Colocations handled automatically by placer.\n"
          ],
          "name": "stdout"
        }
      ]
    },
    {
      "metadata": {
        "id": "16VPjBUqI6Jg",
        "colab_type": "code",
        "colab": {}
      },
      "cell_type": "code",
      "source": [
        "model.compile(optimizer='rmsprop',\n",
        "             loss='binary_crossentropy',\n",
        "             metrics=['accuracy'])"
      ],
      "execution_count": 0,
      "outputs": []
    },
    {
      "metadata": {
        "id": "9bhEuRVBJFyr",
        "colab_type": "code",
        "colab": {}
      },
      "cell_type": "code",
      "source": [
        "model.compile(optimizer=optimizers.RMSprop(lr=0.001),\n",
        "             loss='binary_crossentropy',\n",
        "             metrics=['accuracy'])"
      ],
      "execution_count": 0,
      "outputs": []
    },
    {
      "metadata": {
        "id": "tqqSYkUBJUcS",
        "colab_type": "code",
        "colab": {}
      },
      "cell_type": "code",
      "source": [
        "model.compile(optimizer=optimizers.RMSprop(lr=0.001),\n",
        "             loss=losses.binary_crossentropy,\n",
        "             metrics=[metrics.binary_accuracy])"
      ],
      "execution_count": 0,
      "outputs": []
    },
    {
      "metadata": {
        "id": "w3l5aVVOJqYG",
        "colab_type": "code",
        "colab": {}
      },
      "cell_type": "code",
      "source": [
        "x_val = x_train[:10000]\n",
        "partial_x_train = x_train[10000:]"
      ],
      "execution_count": 0,
      "outputs": []
    },
    {
      "metadata": {
        "id": "akPvsEA2J1la",
        "colab_type": "code",
        "colab": {}
      },
      "cell_type": "code",
      "source": [
        "y_val = y_train[:10000]\n",
        "partial_y_train = y_train[10000:]"
      ],
      "execution_count": 0,
      "outputs": []
    },
    {
      "metadata": {
        "id": "1TwgyZH2J_Kz",
        "colab_type": "code",
        "colab": {}
      },
      "cell_type": "code",
      "source": [
        "model.compile(optimizer='rmsprop',\n",
        "             loss='binary_crossentropy',\n",
        "             metrics=['accuracy'])"
      ],
      "execution_count": 0,
      "outputs": []
    },
    {
      "metadata": {
        "id": "7Utk_9TdKKVO",
        "colab_type": "code",
        "colab": {
          "base_uri": "https://localhost:8080/",
          "height": 776
        },
        "outputId": "f7311a37-335e-46d2-bd37-31f209b0c0ca"
      },
      "cell_type": "code",
      "source": [
        "history = model.fit(partial_x_train, partial_y_train, epochs=20, batch_size=512, validation_data=(x_val, y_val))"
      ],
      "execution_count": 15,
      "outputs": [
        {
          "output_type": "stream",
          "text": [
            "WARNING:tensorflow:From /usr/local/lib/python3.6/dist-packages/tensorflow/python/ops/math_ops.py:3066: to_int32 (from tensorflow.python.ops.math_ops) is deprecated and will be removed in a future version.\n",
            "Instructions for updating:\n",
            "Use tf.cast instead.\n",
            "Train on 15000 samples, validate on 10000 samples\n",
            "Epoch 1/20\n",
            "15000/15000 [==============================] - 2s 139us/step - loss: 0.5048 - acc: 0.7872 - val_loss: 0.3776 - val_acc: 0.8705\n",
            "Epoch 2/20\n",
            "15000/15000 [==============================] - 2s 123us/step - loss: 0.2992 - acc: 0.9043 - val_loss: 0.3001 - val_acc: 0.8899\n",
            "Epoch 3/20\n",
            "15000/15000 [==============================] - 2s 124us/step - loss: 0.2173 - acc: 0.9285 - val_loss: 0.3079 - val_acc: 0.8717\n",
            "Epoch 4/20\n",
            "15000/15000 [==============================] - 2s 123us/step - loss: 0.1747 - acc: 0.9439 - val_loss: 0.2826 - val_acc: 0.8844\n",
            "Epoch 5/20\n",
            "15000/15000 [==============================] - 2s 121us/step - loss: 0.1422 - acc: 0.9541 - val_loss: 0.2855 - val_acc: 0.8857\n",
            "Epoch 6/20\n",
            "15000/15000 [==============================] - 2s 121us/step - loss: 0.1148 - acc: 0.9651 - val_loss: 0.3143 - val_acc: 0.8776\n",
            "Epoch 7/20\n",
            "15000/15000 [==============================] - 2s 121us/step - loss: 0.0977 - acc: 0.9709 - val_loss: 0.3131 - val_acc: 0.8842\n",
            "Epoch 8/20\n",
            "15000/15000 [==============================] - 2s 121us/step - loss: 0.0806 - acc: 0.9764 - val_loss: 0.3865 - val_acc: 0.8652\n",
            "Epoch 9/20\n",
            "15000/15000 [==============================] - 2s 122us/step - loss: 0.0661 - acc: 0.9821 - val_loss: 0.3640 - val_acc: 0.8777\n",
            "Epoch 10/20\n",
            "15000/15000 [==============================] - 2s 122us/step - loss: 0.0566 - acc: 0.9846 - val_loss: 0.3848 - val_acc: 0.8785\n",
            "Epoch 11/20\n",
            "15000/15000 [==============================] - 2s 122us/step - loss: 0.0439 - acc: 0.9901 - val_loss: 0.4168 - val_acc: 0.8761\n",
            "Epoch 12/20\n",
            "15000/15000 [==============================] - 2s 122us/step - loss: 0.0387 - acc: 0.9917 - val_loss: 0.4537 - val_acc: 0.8699\n",
            "Epoch 13/20\n",
            "15000/15000 [==============================] - 2s 123us/step - loss: 0.0303 - acc: 0.9930 - val_loss: 0.4686 - val_acc: 0.8727\n",
            "Epoch 14/20\n",
            "15000/15000 [==============================] - 2s 122us/step - loss: 0.0249 - acc: 0.9946 - val_loss: 0.5015 - val_acc: 0.8730\n",
            "Epoch 15/20\n",
            "15000/15000 [==============================] - 2s 123us/step - loss: 0.0179 - acc: 0.9979 - val_loss: 0.5344 - val_acc: 0.8694\n",
            "Epoch 16/20\n",
            "15000/15000 [==============================] - 2s 123us/step - loss: 0.0158 - acc: 0.9975 - val_loss: 0.5774 - val_acc: 0.8684\n",
            "Epoch 17/20\n",
            "15000/15000 [==============================] - 2s 122us/step - loss: 0.0104 - acc: 0.9991 - val_loss: 0.6391 - val_acc: 0.8613\n",
            "Epoch 18/20\n",
            "15000/15000 [==============================] - 2s 122us/step - loss: 0.0126 - acc: 0.9971 - val_loss: 0.6426 - val_acc: 0.8668\n",
            "Epoch 19/20\n",
            "15000/15000 [==============================] - 2s 122us/step - loss: 0.0054 - acc: 0.9998 - val_loss: 0.7188 - val_acc: 0.8571\n",
            "Epoch 20/20\n",
            "15000/15000 [==============================] - 2s 123us/step - loss: 0.0099 - acc: 0.9981 - val_loss: 0.6994 - val_acc: 0.8652\n"
          ],
          "name": "stdout"
        }
      ]
    },
    {
      "metadata": {
        "id": "onOiQzAuKcs8",
        "colab_type": "code",
        "colab": {
          "base_uri": "https://localhost:8080/",
          "height": 34
        },
        "outputId": "fe3b0da6-7118-485f-9390-b99c1bddcc76"
      },
      "cell_type": "code",
      "source": [
        "history_dict = history.history\n",
        "history_dict.keys()"
      ],
      "execution_count": 16,
      "outputs": [
        {
          "output_type": "execute_result",
          "data": {
            "text/plain": [
              "dict_keys(['val_loss', 'val_acc', 'loss', 'acc'])"
            ]
          },
          "metadata": {
            "tags": []
          },
          "execution_count": 16
        }
      ]
    },
    {
      "metadata": {
        "id": "-21Oyo0NKusW",
        "colab_type": "code",
        "colab": {
          "base_uri": "https://localhost:8080/",
          "height": 376
        },
        "outputId": "45dd5ac4-99a5-457c-f50a-3663aabdedf0"
      },
      "cell_type": "code",
      "source": [
        "history_dict = history.history\n",
        "loss_values = history_dict['loss']\n",
        "val_loss_values = history_dict['val_loss']\n",
        "epochs = range(1, len(history_dict['acc']) + 1)\n",
        "plt.plot(epochs, loss_values, 'bo', label='Training loss')\n",
        "plt.plot(epochs, val_loss_values, 'b', label='Validation loss')\n",
        "plt.title('Training and validation loss')\n",
        "plt.xlabel('Epochs')\n",
        "plt.ylabel('Loss')\n",
        "plt.legend()\n",
        "plt.show()"
      ],
      "execution_count": 17,
      "outputs": [
        {
          "output_type": "display_data",
          "data": {
            "image/png": "[encoded data removed]",
            "text/plain": [
              "<Figure size 576x396 with 1 Axes>"
            ]
          },
          "metadata": {
            "tags": []
          }
        }
      ]
    },
    {
      "metadata": {
        "id": "BvpCD25cK4iA",
        "colab_type": "code",
        "colab": {
          "base_uri": "https://localhost:8080/",
          "height": 376
        },
        "outputId": "994731ab-0ecf-4a3e-d815-7e773afc9a24"
      },
      "cell_type": "code",
      "source": [
        "plt.clf()\n",
        "acc_values = history_dict['acc']\n",
        "val_acc_values = history_dict['val_acc']\n",
        "plt.plot(epochs, history_dict['acc'], 'bo', label='Training acc')\n",
        "plt.plot(epochs, history_dict['val_acc'], 'b', label='Validation acc')\n",
        "plt.title('Training and validation accuracy')\n",
        "plt.xlabel('Epochs')\n",
        "plt.ylabel('Loss')\n",
        "plt.legend()\n",
        "plt.show()"
      ],
      "execution_count": 18,
      "outputs": [
        {
          "output_type": "display_data",
          "data": {
            "image/png": "[encoded data removed]",
            "text/plain": [
              "<Figure size 576x396 with 1 Axes>"
            ]
          },
          "metadata": {
            "tags": []
          }
        }
      ]
    },
    {
      "metadata": {
        "id": "BXs2CNLFLPgj",
        "colab_type": "code",
        "colab": {
          "base_uri": "https://localhost:8080/",
          "height": 235
        },
        "outputId": "7e17ef09-c325-4652-b967-c1bb96c1cea3"
      },
      "cell_type": "code",
      "source": [
        "model = models.Sequential()\n",
        "model.add(layers.Dense(16, activation='relu', input_shape=(10000,)))\n",
        "model.add(layers.Dense(16, activation='relu'))\n",
        "model.add(layers.Dense(1, activation='sigmoid'))\n",
        "\n",
        "model.compile(optimizer='rmsprop', loss='binary_crossentropy', metrics=['accuracy'])\n",
        "\n",
        "model.fit(x_train, y_train, epochs=5, batch_size=512)\n",
        "\n",
        "test_loss, test_accuracy = model.evaluate(x_test, y_test)\n",
        "print(\"Test Accuracy: \", test_accuracy, \"\\nTest Loss: \", test_loss)"
      ],
      "execution_count": 19,
      "outputs": [
        {
          "output_type": "stream",
          "text": [
            "Epoch 1/5\n",
            "25000/25000 [==============================] - 3s 105us/step - loss: 0.4737 - acc: 0.8216\n",
            "Epoch 2/5\n",
            "25000/25000 [==============================] - 2s 89us/step - loss: 0.2672 - acc: 0.9096\n",
            "Epoch 3/5\n",
            "25000/25000 [==============================] - 2s 86us/step - loss: 0.2031 - acc: 0.9284\n",
            "Epoch 4/5\n",
            "25000/25000 [==============================] - 2s 86us/step - loss: 0.1712 - acc: 0.9389\n",
            "Epoch 5/5\n",
            "25000/25000 [==============================] - 2s 87us/step - loss: 0.1460 - acc: 0.9491\n",
            "25000/25000 [==============================] - 2s 64us/step\n",
            "Test Accuracy:  0.88148 \n",
            "Test Loss:  0.3074799060964584\n"
          ],
          "name": "stdout"
        }
      ]
    }
  ]
}