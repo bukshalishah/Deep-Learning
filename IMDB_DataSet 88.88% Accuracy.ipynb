{
  "nbformat": 4,
  "nbformat_minor": 0,
  "metadata": {
    "colab": {
      "name": "IMDB DataSet.ipynb",
      "version": "0.3.2",
      "provenance": [],
      "collapsed_sections": [],
      "include_colab_link": true
    },
    "kernelspec": {
      "name": "python3",
      "display_name": "Python 3"
    },
    "accelerator": "TPU"
  },
  "cells": [
    {
      "cell_type": "markdown",
      "metadata": {
        "id": "view-in-github",
        "colab_type": "text"
      },
      "source": [
        "<a href=\"https://colab.research.google.com/github/bukshalishah/Deep-Learning/blob/master/IMDB_DataSet%2088.88%25%20Accuracy.ipynb\" target=\"_parent\"><img src=\"https://colab.research.google.com/assets/colab-badge.svg\" alt=\"Open In Colab\"/></a>"
      ]
    },
    {
      "metadata": {
        "id": "m7bRO21z-7Q1",
        "colab_type": "code",
        "colab": {
          "base_uri": "https://localhost:8080/",
          "height": 34
        },
        "outputId": "30b28820-686f-461e-9d66-6e832c18884c"
      },
      "cell_type": "code",
      "source": [
        "from keras.datasets import imdb\n",
        "from keras import layers\n",
        "from keras import models\n",
        "from keras import activations\n",
        "from keras import optimizers\n",
        "from keras import losses\n",
        "from keras import metrics\n",
        "import numpy as np\n",
        "import matplotlib.pyplot as plt"
      ],
      "execution_count": 1,
      "outputs": [
        {
          "output_type": "stream",
          "text": [
            "Using TensorFlow backend.\n"
          ],
          "name": "stderr"
        }
      ]
    },
    {
      "metadata": {
        "id": "8jUwgFkJ_Z5f",
        "colab_type": "code",
        "colab": {
          "base_uri": "https://localhost:8080/",
          "height": 50
        },
        "outputId": "fd55c125-4884-4fc3-badc-fba03feab79a"
      },
      "cell_type": "code",
      "source": [
        "(train_data, train_labels), (test_data, test_labels) = imdb.load_data(num_words=10000)"
      ],
      "execution_count": 2,
      "outputs": [
        {
          "output_type": "stream",
          "text": [
            "Downloading data from https://s3.amazonaws.com/text-datasets/imdb.npz\n",
            "17465344/17464789 [==============================] - 1s 0us/step\n"
          ],
          "name": "stdout"
        }
      ]
    },
    {
      "metadata": {
        "id": "tSYbQkHF_lj7",
        "colab_type": "code",
        "colab": {
          "base_uri": "https://localhost:8080/",
          "height": 34
        },
        "outputId": "56e33d7c-17d0-4408-9a5a-4da847b0913c"
      },
      "cell_type": "code",
      "source": [
        "max(max(sequence) for sequence in train_data)"
      ],
      "execution_count": 3,
      "outputs": [
        {
          "output_type": "execute_result",
          "data": {
            "text/plain": [
              "9999"
            ]
          },
          "metadata": {
            "tags": []
          },
          "execution_count": 3
        }
      ]
    },
    {
      "metadata": {
        "id": "mt7RigBl_rbz",
        "colab_type": "code",
        "colab": {
          "base_uri": "https://localhost:8080/",
          "height": 50
        },
        "outputId": "7ea40c54-7dc4-4d75-d373-a9e9fa064bc1"
      },
      "cell_type": "code",
      "source": [
        "# Decode\n",
        "\n",
        "word_index = imdb.get_word_index()\n",
        "reverse_word_index = dict([(value,key) for (key,value) in word_index.items()])\n",
        "\n",
        "decode_review = ' '.join([reverse_word_index.get(i -3, '?') for i in train_data[0]])"
      ],
      "execution_count": 4,
      "outputs": [
        {
          "output_type": "stream",
          "text": [
            "Downloading data from https://s3.amazonaws.com/text-datasets/imdb_word_index.json\n",
            "1646592/1641221 [==============================] - 0s 0us/step\n"
          ],
          "name": "stdout"
        }
      ]
    },
    {
      "metadata": {
        "id": "VV3U4ss7Am4X",
        "colab_type": "code",
        "colab": {}
      },
      "cell_type": "code",
      "source": [
        "def vectorize_sequence(sequences, dimension=10000):\n",
        "  results = np.zeros((len(sequences), dimension))\n",
        "  for i, sequence in enumerate(sequences):\n",
        "    results[i, sequence] = 1\n",
        "  return results\n",
        "  "
      ],
      "execution_count": 0,
      "outputs": []
    },
    {
      "metadata": {
        "id": "_fJ62QDmIIcJ",
        "colab_type": "code",
        "colab": {}
      },
      "cell_type": "code",
      "source": [
        "x_train = vectorize_sequence(train_data)\n",
        "x_test  = vectorize_sequence(test_data)"
      ],
      "execution_count": 0,
      "outputs": []
    },
    {
      "metadata": {
        "id": "zGg8ZzikIQST",
        "colab_type": "code",
        "colab": {}
      },
      "cell_type": "code",
      "source": [
        "y_train = np.asarray(train_labels).astype('float32')\n",
        "y_test = np.asarray(test_labels).astype('float32')"
      ],
      "execution_count": 0,
      "outputs": []
    },
    {
      "metadata": {
        "id": "eyyVbMvOIezP",
        "colab_type": "code",
        "colab": {
          "base_uri": "https://localhost:8080/",
          "height": 87
        },
        "outputId": "b81ab40c-a82e-4211-a620-d0c3523b177e"
      },
      "cell_type": "code",
      "source": [
        "model = models.Sequential()\n",
        "model.add(layers.Dense(16, activation='relu', input_shape=(10000,)))\n",
        "model.add(layers.Dense(16, activation='relu'))\n",
        "model.add(layers.Dense(1, activation='sigmoid'))"
      ],
      "execution_count": 8,
      "outputs": [
        {
          "output_type": "stream",
          "text": [
            "WARNING:tensorflow:From /usr/local/lib/python3.6/dist-packages/tensorflow/python/framework/op_def_library.py:263: colocate_with (from tensorflow.python.framework.ops) is deprecated and will be removed in a future version.\n",
            "Instructions for updating:\n",
            "Colocations handled automatically by placer.\n"
          ],
          "name": "stdout"
        }
      ]
    },
    {
      "metadata": {
        "id": "16VPjBUqI6Jg",
        "colab_type": "code",
        "colab": {}
      },
      "cell_type": "code",
      "source": [
        "model.compile(optimizer='rmsprop',\n",
        "             loss='binary_crossentropy',\n",
        "             metrics=['accuracy'])"
      ],
      "execution_count": 0,
      "outputs": []
    },
    {
      "metadata": {
        "id": "9bhEuRVBJFyr",
        "colab_type": "code",
        "colab": {}
      },
      "cell_type": "code",
      "source": [
        "model.compile(optimizer=optimizers.RMSprop(lr=0.001),\n",
        "             loss='binary_crossentropy',\n",
        "             metrics=['accuracy'])"
      ],
      "execution_count": 0,
      "outputs": []
    },
    {
      "metadata": {
        "id": "tqqSYkUBJUcS",
        "colab_type": "code",
        "colab": {}
      },
      "cell_type": "code",
      "source": [
        "model.compile(optimizer=optimizers.RMSprop(lr=0.001),\n",
        "             loss=losses.binary_crossentropy,\n",
        "             metrics=[metrics.binary_accuracy])"
      ],
      "execution_count": 0,
      "outputs": []
    },
    {
      "metadata": {
        "id": "w3l5aVVOJqYG",
        "colab_type": "code",
        "colab": {}
      },
      "cell_type": "code",
      "source": [
        "x_val = x_train[:10000]\n",
        "partial_x_train = x_train[10000:]"
      ],
      "execution_count": 0,
      "outputs": []
    },
    {
      "metadata": {
        "id": "akPvsEA2J1la",
        "colab_type": "code",
        "colab": {}
      },
      "cell_type": "code",
      "source": [
        "y_val = y_train[:10000]\n",
        "partial_y_train = y_train[10000:]"
      ],
      "execution_count": 0,
      "outputs": []
    },
    {
      "metadata": {
        "id": "1TwgyZH2J_Kz",
        "colab_type": "code",
        "colab": {}
      },
      "cell_type": "code",
      "source": [
        "model.compile(optimizer='rmsprop',\n",
        "             loss='binary_crossentropy',\n",
        "             metrics=['accuracy'])"
      ],
      "execution_count": 0,
      "outputs": []
    },
    {
      "metadata": {
        "id": "7Utk_9TdKKVO",
        "colab_type": "code",
        "colab": {
          "base_uri": "https://localhost:8080/",
          "height": 776
        },
        "outputId": "d361a261-05a6-4f64-8dbb-ac11fa396814"
      },
      "cell_type": "code",
      "source": [
        "history = model.fit(partial_x_train, partial_y_train, epochs=20, batch_size=512, validation_data=(x_val, y_val))"
      ],
      "execution_count": 15,
      "outputs": [
        {
          "output_type": "stream",
          "text": [
            "WARNING:tensorflow:From /usr/local/lib/python3.6/dist-packages/tensorflow/python/ops/math_ops.py:3066: to_int32 (from tensorflow.python.ops.math_ops) is deprecated and will be removed in a future version.\n",
            "Instructions for updating:\n",
            "Use tf.cast instead.\n",
            "Train on 15000 samples, validate on 10000 samples\n",
            "Epoch 1/20\n",
            "15000/15000 [==============================] - 3s 172us/step - loss: 0.5087 - acc: 0.7813 - val_loss: 0.3801 - val_acc: 0.8690\n",
            "Epoch 2/20\n",
            "15000/15000 [==============================] - 2s 127us/step - loss: 0.3008 - acc: 0.9053 - val_loss: 0.3006 - val_acc: 0.8901\n",
            "Epoch 3/20\n",
            "15000/15000 [==============================] - 2s 125us/step - loss: 0.2181 - acc: 0.9279 - val_loss: 0.3086 - val_acc: 0.8718\n",
            "Epoch 4/20\n",
            "15000/15000 [==============================] - 2s 126us/step - loss: 0.1751 - acc: 0.9434 - val_loss: 0.2841 - val_acc: 0.8839\n",
            "Epoch 5/20\n",
            "15000/15000 [==============================] - 2s 126us/step - loss: 0.1427 - acc: 0.9543 - val_loss: 0.2847 - val_acc: 0.8865\n",
            "Epoch 6/20\n",
            "15000/15000 [==============================] - 2s 128us/step - loss: 0.1150 - acc: 0.9654 - val_loss: 0.3157 - val_acc: 0.8773\n",
            "Epoch 7/20\n",
            "15000/15000 [==============================] - 2s 126us/step - loss: 0.0980 - acc: 0.9706 - val_loss: 0.3127 - val_acc: 0.8845\n",
            "Epoch 8/20\n",
            "15000/15000 [==============================] - 2s 126us/step - loss: 0.0807 - acc: 0.9763 - val_loss: 0.3852 - val_acc: 0.8654\n",
            "Epoch 9/20\n",
            "15000/15000 [==============================] - 2s 125us/step - loss: 0.0661 - acc: 0.9821 - val_loss: 0.3632 - val_acc: 0.8784\n",
            "Epoch 10/20\n",
            "15000/15000 [==============================] - 2s 126us/step - loss: 0.0558 - acc: 0.9853 - val_loss: 0.3842 - val_acc: 0.8791\n",
            "Epoch 11/20\n",
            "15000/15000 [==============================] - 2s 126us/step - loss: 0.0449 - acc: 0.9890 - val_loss: 0.4159 - val_acc: 0.8769\n",
            "Epoch 12/20\n",
            "15000/15000 [==============================] - 2s 130us/step - loss: 0.0385 - acc: 0.9914 - val_loss: 0.4504 - val_acc: 0.8697\n",
            "Epoch 13/20\n",
            "15000/15000 [==============================] - 2s 133us/step - loss: 0.0300 - acc: 0.9930 - val_loss: 0.4693 - val_acc: 0.8731\n",
            "Epoch 14/20\n",
            "15000/15000 [==============================] - 2s 130us/step - loss: 0.0247 - acc: 0.9947 - val_loss: 0.5025 - val_acc: 0.8717\n",
            "Epoch 15/20\n",
            "15000/15000 [==============================] - 2s 131us/step - loss: 0.0173 - acc: 0.9982 - val_loss: 0.5652 - val_acc: 0.8636\n",
            "Epoch 16/20\n",
            "15000/15000 [==============================] - 2s 132us/step - loss: 0.0185 - acc: 0.9963 - val_loss: 0.5789 - val_acc: 0.8685\n",
            "Epoch 17/20\n",
            "15000/15000 [==============================] - 2s 131us/step - loss: 0.0092 - acc: 0.9993 - val_loss: 0.6050 - val_acc: 0.8679\n",
            "Epoch 18/20\n",
            "15000/15000 [==============================] - 2s 124us/step - loss: 0.0107 - acc: 0.9983 - val_loss: 0.6389 - val_acc: 0.8672\n",
            "Epoch 19/20\n",
            "15000/15000 [==============================] - 2s 125us/step - loss: 0.0056 - acc: 0.9998 - val_loss: 0.7954 - val_acc: 0.8478\n",
            "Epoch 20/20\n",
            "15000/15000 [==============================] - 2s 126us/step - loss: 0.0054 - acc: 0.9996 - val_loss: 0.7183 - val_acc: 0.8633\n"
          ],
          "name": "stdout"
        }
      ]
    },
    {
      "metadata": {
        "id": "onOiQzAuKcs8",
        "colab_type": "code",
        "colab": {
          "base_uri": "https://localhost:8080/",
          "height": 34
        },
        "outputId": "c97c652b-5484-4c28-c502-f031ad544657"
      },
      "cell_type": "code",
      "source": [
        "history_dict = history.history\n",
        "history_dict.keys()"
      ],
      "execution_count": 16,
      "outputs": [
        {
          "output_type": "execute_result",
          "data": {
            "text/plain": [
              "dict_keys(['val_loss', 'val_acc', 'loss', 'acc'])"
            ]
          },
          "metadata": {
            "tags": []
          },
          "execution_count": 16
        }
      ]
    },
    {
      "metadata": {
        "id": "-21Oyo0NKusW",
        "colab_type": "code",
        "colab": {
          "base_uri": "https://localhost:8080/",
          "height": 376
        },
        "outputId": "04921d10-5e3b-46ba-88ad-17244c1dd012"
      },
      "cell_type": "code",
      "source": [
        "history_dict = history.history\n",
        "loss_values = history_dict['loss']\n",
        "val_loss_values = history_dict['val_loss']\n",
        "epochs = range(1, len(history_dict['acc']) + 1)\n",
        "plt.plot(epochs, loss_values, 'bo', label='Training loss')\n",
        "plt.plot(epochs, val_loss_values, 'b', label='Validation loss')\n",
        "plt.title('Training and validation loss')\n",
        "plt.xlabel('Epochs')\n",
        "plt.ylabel('Loss')\n",
        "plt.legend()\n",
        "plt.show()"
      ],
      "execution_count": 17,
      "outputs": [
        {
          "output_type": "display_data",
          "data": {
            "image/png": "[encoded data removed]",
            "text/plain": [
              "<Figure size 576x396 with 1 Axes>"
            ]
          },
          "metadata": {
            "tags": []
          }
        }
      ]
    },
    {
      "metadata": {
        "id": "BvpCD25cK4iA",
        "colab_type": "code",
        "colab": {
          "base_uri": "https://localhost:8080/",
          "height": 376
        },
        "outputId": "999bd0e9-668f-4d16-b37a-84b36f93e791"
      },
      "cell_type": "code",
      "source": [
        "plt.clf()\n",
        "acc_values = history_dict['acc']\n",
        "val_acc_values = history_dict['val_acc']\n",
        "plt.plot(epochs, history_dict['acc'], 'bo', label='Training acc')\n",
        "plt.plot(epochs, history_dict['val_acc'], 'b', label='Validation acc')\n",
        "plt.title('Training and validation accuracy')\n",
        "plt.xlabel('Epochs')\n",
        "plt.ylabel('Loss')\n",
        "plt.legend()\n",
        "plt.show()"
      ],
      "execution_count": 18,
      "outputs": [
        {
          "output_type": "display_data",
          "data": {
            "image/png": "[encoded data removed]",
            "text/plain": [
              "<Figure size 576x396 with 1 Axes>"
            ]
          },
          "metadata": {
            "tags": []
          }
        }
      ]
    },
    {
      "metadata": {
        "id": "BXs2CNLFLPgj",
        "colab_type": "code",
        "colab": {
          "base_uri": "https://localhost:8080/",
          "height": 235
        },
        "outputId": "ee54d4c4-d558-4342-b107-2c0648edde9d"
      },
      "cell_type": "code",
      "source": [
        "model = models.Sequential()\n",
        "model.add(layers.Dense(1024, activation=activations.relu, input_shape=(10000,)))\n",
        "model.add(layers.Dense(1024, activation=activations.relu))\n",
        "model.add(layers.Dense(1024, activation=activations.relu))\n",
        "model.add(layers.Dense(1, activation=activations.sigmoid))\n",
        "\n",
        "model.compile(optimizer=optimizers.rmsprop(lr=0.001), loss=losses.binary_crossentropy, metrics=[metrics.binary_accuracy])\n",
        "\n",
        "model.fit(x_train, y_train, epochs=5, batch_size=1024)\n",
        "\n",
        "test_loss, test_accuracy = model.evaluate(x_test, y_test)\n",
        "print(\"Test Accuracy: \", test_accuracy, \"\\nTest Loss: \", test_loss)"
      ],
      "execution_count": 19,
      "outputs": [
        {
          "output_type": "stream",
          "text": [
            "Epoch 1/5\n",
            "25000/25000 [==============================] - 26s 1ms/step - loss: 0.9661 - binary_accuracy: 0.6916\n",
            "Epoch 2/5\n",
            "25000/25000 [==============================] - 26s 1ms/step - loss: 0.3714 - binary_accuracy: 0.8576\n",
            "Epoch 3/5\n",
            "25000/25000 [==============================] - 26s 1ms/step - loss: 0.2063 - binary_accuracy: 0.9168\n",
            "Epoch 4/5\n",
            "25000/25000 [==============================] - 26s 1ms/step - loss: 0.1501 - binary_accuracy: 0.9441\n",
            "Epoch 5/5\n",
            "25000/25000 [==============================] - 26s 1ms/step - loss: 0.1473 - binary_accuracy: 0.9635\n",
            "25000/25000 [==============================] - 21s 859us/step\n",
            "Test Accuracy:  0.88856 \n",
            "Test Loss:  0.39380074107170104\n"
          ],
          "name": "stdout"
        }
      ]
    },
    {
      "metadata": {
        "id": "aZJ8a1_QRA7r",
        "colab_type": "code",
        "colab": {}
      },
      "cell_type": "code",
      "source": [
        ""
      ],
      "execution_count": 0,
      "outputs": []
    }
  ]
}