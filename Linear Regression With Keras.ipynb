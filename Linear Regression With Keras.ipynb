{
 "cells": [
  {
   "cell_type": "code",
   "execution_count": 2,
   "metadata": {},
   "outputs": [],
   "source": [
    "import numpy as np\n",
    "import pandas as pd\n",
    "import matplotlib.pyplot as plt\n",
    "from keras.models import Sequential\n",
    "from keras.layers import Dense\n",
    "from keras.optimizers import Adam, SGD\n",
    "%matplotlib inline"
   ]
  },
  {
   "cell_type": "code",
   "execution_count": 3,
   "metadata": {},
   "outputs": [],
   "source": [
    "df = pd.read_csv('data/weight-height.csv')"
   ]
  },
  {
   "cell_type": "code",
   "execution_count": 4,
   "metadata": {},
   "outputs": [
    {
     "data": {
      "text/html": [
       "<div>\n",
       "<style scoped>\n",
       "    .dataframe tbody tr th:only-of-type {\n",
       "        vertical-align: middle;\n",
       "    }\n",
       "\n",
       "    .dataframe tbody tr th {\n",
       "        vertical-align: top;\n",
       "    }\n",
       "\n",
       "    .dataframe thead th {\n",
       "        text-align: right;\n",
       "    }\n",
       "</style>\n",
       "<table border=\"1\" class=\"dataframe\">\n",
       "  <thead>\n",
       "    <tr style=\"text-align: right;\">\n",
       "      <th></th>\n",
       "      <th>Gender</th>\n",
       "      <th>Height</th>\n",
       "      <th>Weight</th>\n",
       "    </tr>\n",
       "  </thead>\n",
       "  <tbody>\n",
       "    <tr>\n",
       "      <th>0</th>\n",
       "      <td>Male</td>\n",
       "      <td>73.847017</td>\n",
       "      <td>241.893563</td>\n",
       "    </tr>\n",
       "    <tr>\n",
       "      <th>1</th>\n",
       "      <td>Male</td>\n",
       "      <td>68.781904</td>\n",
       "      <td>162.310473</td>\n",
       "    </tr>\n",
       "    <tr>\n",
       "      <th>2</th>\n",
       "      <td>Male</td>\n",
       "      <td>74.110105</td>\n",
       "      <td>212.740856</td>\n",
       "    </tr>\n",
       "    <tr>\n",
       "      <th>3</th>\n",
       "      <td>Male</td>\n",
       "      <td>71.730978</td>\n",
       "      <td>220.042470</td>\n",
       "    </tr>\n",
       "    <tr>\n",
       "      <th>4</th>\n",
       "      <td>Male</td>\n",
       "      <td>69.881796</td>\n",
       "      <td>206.349801</td>\n",
       "    </tr>\n",
       "  </tbody>\n",
       "</table>\n",
       "</div>"
      ],
      "text/plain": [
       "  Gender     Height      Weight\n",
       "0   Male  73.847017  241.893563\n",
       "1   Male  68.781904  162.310473\n",
       "2   Male  74.110105  212.740856\n",
       "3   Male  71.730978  220.042470\n",
       "4   Male  69.881796  206.349801"
      ]
     },
     "execution_count": 4,
     "metadata": {},
     "output_type": "execute_result"
    }
   ],
   "source": [
    "df.head()"
   ]
  },
  {
   "cell_type": "code",
   "execution_count": 5,
   "metadata": {},
   "outputs": [],
   "source": [
    "X = df[['Height']].values\n",
    "y_true = df[['Weight']].values"
   ]
  },
  {
   "cell_type": "code",
   "execution_count": 6,
   "metadata": {},
   "outputs": [
    {
     "data": {
      "text/plain": [
       "array([[73.84701702],\n",
       "       [68.78190405],\n",
       "       [74.11010539],\n",
       "       ...,\n",
       "       [63.86799221],\n",
       "       [69.03424313],\n",
       "       [61.94424588]])"
      ]
     },
     "execution_count": 6,
     "metadata": {},
     "output_type": "execute_result"
    }
   ],
   "source": [
    "X"
   ]
  },
  {
   "cell_type": "code",
   "execution_count": 7,
   "metadata": {},
   "outputs": [],
   "source": [
    "model = Sequential()\n",
    "model.add(Dense(1, input_shape=(1,)))"
   ]
  },
  {
   "cell_type": "code",
   "execution_count": 8,
   "metadata": {},
   "outputs": [
    {
     "name": "stdout",
     "output_type": "stream",
     "text": [
      "_________________________________________________________________\n",
      "Layer (type)                 Output Shape              Param #   \n",
      "=================================================================\n",
      "dense_1 (Dense)              (None, 1)                 2         \n",
      "=================================================================\n",
      "Total params: 2\n",
      "Trainable params: 2\n",
      "Non-trainable params: 0\n",
      "_________________________________________________________________\n"
     ]
    }
   ],
   "source": [
    "model.summary()"
   ]
  },
  {
   "cell_type": "code",
   "execution_count": 9,
   "metadata": {},
   "outputs": [],
   "source": [
    "model.compile(Adam(lr=0.8), 'mean_squared_error')"
   ]
  },
  {
   "cell_type": "code",
   "execution_count": 10,
   "metadata": {},
   "outputs": [
    {
     "name": "stdout",
     "output_type": "stream",
     "text": [
      "Epoch 1/35\n",
      "10000/10000 [==============================] - 2s 217us/step - loss: 1298.5582\n",
      "Epoch 2/35\n",
      "10000/10000 [==============================] - 0s 43us/step - loss: 566.0909\n",
      "Epoch 3/35\n",
      "10000/10000 [==============================] - 2s 213us/step - loss: 530.8167\n",
      "Epoch 4/35\n",
      "10000/10000 [==============================] - 2s 158us/step - loss: 498.2609\n",
      "Epoch 5/35\n",
      "10000/10000 [==============================] - 2s 184us/step - loss: 473.3323\n",
      "Epoch 6/35\n",
      "10000/10000 [==============================] - 2s 181us/step - loss: 407.7967\n",
      "Epoch 7/35\n",
      "10000/10000 [==============================] - 1s 54us/step - loss: 394.2938\n",
      "Epoch 8/35\n",
      "10000/10000 [==============================] - 0s 45us/step - loss: 345.0152\n",
      "Epoch 9/35\n",
      "10000/10000 [==============================] - 0s 50us/step - loss: 331.1972\n",
      "Epoch 10/35\n",
      "10000/10000 [==============================] - 1s 50us/step - loss: 290.6650\n",
      "Epoch 11/35\n",
      "10000/10000 [==============================] - 1s 53us/step - loss: 274.7361\n",
      "Epoch 12/35\n",
      "10000/10000 [==============================] - 1s 55us/step - loss: 242.0536\n",
      "Epoch 13/35\n",
      "10000/10000 [==============================] - 0s 50us/step - loss: 229.6036\n",
      "Epoch 14/35\n",
      "10000/10000 [==============================] - 1s 60us/step - loss: 214.8325\n",
      "Epoch 15/35\n",
      "10000/10000 [==============================] - 1s 97us/step - loss: 215.0568\n",
      "Epoch 16/35\n",
      "10000/10000 [==============================] - 2s 227us/step - loss: 212.9841\n",
      "Epoch 17/35\n",
      "10000/10000 [==============================] - 3s 255us/step - loss: 191.4179\n",
      "Epoch 18/35\n",
      "10000/10000 [==============================] - 2s 227us/step - loss: 195.9235\n",
      "Epoch 19/35\n",
      "10000/10000 [==============================] - 1s 69us/step - loss: 181.2122\n",
      "Epoch 20/35\n",
      "10000/10000 [==============================] - 1s 58us/step - loss: 177.5014\n",
      "Epoch 21/35\n",
      "10000/10000 [==============================] - 1s 64us/step - loss: 186.9184\n",
      "Epoch 22/35\n",
      "10000/10000 [==============================] - 1s 100us/step - loss: 192.4067\n",
      "Epoch 23/35\n",
      "10000/10000 [==============================] - 1s 60us/step - loss: 185.1816\n",
      "Epoch 24/35\n",
      "10000/10000 [==============================] - 1s 52us/step - loss: 184.0679\n",
      "Epoch 25/35\n",
      "10000/10000 [==============================] - 1s 116us/step - loss: 178.0293\n",
      "Epoch 26/35\n",
      "10000/10000 [==============================] - 2s 220us/step - loss: 175.1756\n",
      "Epoch 27/35\n",
      "10000/10000 [==============================] - 2s 188us/step - loss: 179.2686\n",
      "Epoch 28/35\n",
      "10000/10000 [==============================] - 2s 191us/step - loss: 178.1460\n",
      "Epoch 29/35\n",
      "10000/10000 [==============================] - 1s 89us/step - loss: 185.8859\n",
      "Epoch 30/35\n",
      "10000/10000 [==============================] - 1s 52us/step - loss: 182.6986\n",
      "Epoch 31/35\n",
      "10000/10000 [==============================] - 1s 56us/step - loss: 175.4568\n",
      "Epoch 32/35\n",
      "10000/10000 [==============================] - 0s 50us/step - loss: 181.6932\n",
      "Epoch 33/35\n",
      "10000/10000 [==============================] - 1s 63us/step - loss: 185.9669\n",
      "Epoch 34/35\n",
      "10000/10000 [==============================] - 1s 55us/step - loss: 169.5388\n",
      "Epoch 35/35\n",
      "10000/10000 [==============================] - 1s 57us/step - loss: 177.3403\n"
     ]
    },
    {
     "data": {
      "text/plain": [
       "<keras.callbacks.History at 0xdff1710>"
      ]
     },
     "execution_count": 10,
     "metadata": {},
     "output_type": "execute_result"
    }
   ],
   "source": [
    "model.fit(X, y_true, epochs=35, verbose=1)"
   ]
  },
  {
   "cell_type": "code",
   "execution_count": 11,
   "metadata": {},
   "outputs": [
    {
     "name": "stdout",
     "output_type": "stream",
     "text": [
      "10000/10000 [==============================] - 0s 46us/step\n"
     ]
    }
   ],
   "source": [
    "y_pred = model.predict(X, verbose=1)"
   ]
  },
  {
   "cell_type": "code",
   "execution_count": 12,
   "metadata": {},
   "outputs": [
    {
     "data": {
      "text/plain": [
       "[<matplotlib.lines.Line2D at 0xe475470>]"
      ]
     },
     "execution_count": 12,
     "metadata": {},
     "output_type": "execute_result"
    },
    {
     "data": {
      "image/png": "[encoded data removed]",
      "text/plain": [
       "<Figure size 432x288 with 1 Axes>"
      ]
     },
     "metadata": {},
     "output_type": "display_data"
    }
   ],
   "source": [
    "df.plot(kind='scatter', x='Height', y='Weight', title='Weight and Height in adults')\n",
    "plt.plot(X, y_pred, color='red',linewidth=3)"
   ]
  },
  {
   "cell_type": "code",
   "execution_count": 13,
   "metadata": {},
   "outputs": [],
   "source": [
    "w, b = model.get_weights()"
   ]
  },
  {
   "cell_type": "code",
   "execution_count": 14,
   "metadata": {},
   "outputs": [
    {
     "data": {
      "text/plain": [
       "array([[7.6484427]], dtype=float32)"
      ]
     },
     "execution_count": 14,
     "metadata": {},
     "output_type": "execute_result"
    }
   ],
   "source": [
    "w"
   ]
  },
  {
   "cell_type": "code",
   "execution_count": 15,
   "metadata": {
    "scrolled": false
   },
   "outputs": [
    {
     "data": {
      "text/plain": [
       "array([-345.71136], dtype=float32)"
      ]
     },
     "execution_count": 15,
     "metadata": {},
     "output_type": "execute_result"
    }
   ],
   "source": [
    "b"
   ]
  },
  {
   "cell_type": "code",
   "execution_count": null,
   "metadata": {},
   "outputs": [],
   "source": []
  }
 ],
 "metadata": {
  "kernelspec": {
   "display_name": "Python 3",
   "language": "python",
   "name": "python3"
  },
  "language_info": {
   "codemirror_mode": {
    "name": "ipython",
    "version": 3
   },
   "file_extension": ".py",
   "mimetype": "text/x-python",
   "name": "python",
   "nbconvert_exporter": "python",
   "pygments_lexer": "ipython3",
   "version": "3.6.5"
  }
 },
 "nbformat": 4,
 "nbformat_minor": 2
}
