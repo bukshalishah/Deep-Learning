{
 "cells": [
  {
   "cell_type": "code",
   "execution_count": 5,
   "metadata": {},
   "outputs": [],
   "source": [
    "import numpy as np\n",
    "import pandas as pd\n",
    "import matplotlib.pyplot as pltSequential\n",
    "from keras.models import Sequential\n",
    "from keras.layers import Dense\n",
    "from keras.optimizers import Adam, SGD\n",
    "%matplotlib inline"
   ]
  },
  {
   "cell_type": "code",
   "execution_count": 6,
   "metadata": {},
   "outputs": [],
   "source": [
    "df = pd.read_csv('data/weight-height.csv')"
   ]
  },
  {
   "cell_type": "code",
   "execution_count": 7,
   "metadata": {},
   "outputs": [
    {
     "data": {
      "text/html": [
       "<div>\n",
       "<style scoped>\n",
       "    .dataframe tbody tr th:only-of-type {\n",
       "        vertical-align: middle;\n",
       "    }\n",
       "\n",
       "    .dataframe tbody tr th {\n",
       "        vertical-align: top;\n",
       "    }\n",
       "\n",
       "    .dataframe thead th {\n",
       "        text-align: right;\n",
       "    }\n",
       "</style>\n",
       "<table border=\"1\" class=\"dataframe\">\n",
       "  <thead>\n",
       "    <tr style=\"text-align: right;\">\n",
       "      <th></th>\n",
       "      <th>Gender</th>\n",
       "      <th>Height</th>\n",
       "      <th>Weight</th>\n",
       "    </tr>\n",
       "  </thead>\n",
       "  <tbody>\n",
       "    <tr>\n",
       "      <th>0</th>\n",
       "      <td>Male</td>\n",
       "      <td>73.847017</td>\n",
       "      <td>241.893563</td>\n",
       "    </tr>\n",
       "    <tr>\n",
       "      <th>1</th>\n",
       "      <td>Male</td>\n",
       "      <td>68.781904</td>\n",
       "      <td>162.310473</td>\n",
       "    </tr>\n",
       "    <tr>\n",
       "      <th>2</th>\n",
       "      <td>Male</td>\n",
       "      <td>74.110105</td>\n",
       "      <td>212.740856</td>\n",
       "    </tr>\n",
       "    <tr>\n",
       "      <th>3</th>\n",
       "      <td>Male</td>\n",
       "      <td>71.730978</td>\n",
       "      <td>220.042470</td>\n",
       "    </tr>\n",
       "    <tr>\n",
       "      <th>4</th>\n",
       "      <td>Male</td>\n",
       "      <td>69.881796</td>\n",
       "      <td>206.349801</td>\n",
       "    </tr>\n",
       "  </tbody>\n",
       "</table>\n",
       "</div>"
      ],
      "text/plain": [
       "  Gender     Height      Weight\n",
       "0   Male  73.847017  241.893563\n",
       "1   Male  68.781904  162.310473\n",
       "2   Male  74.110105  212.740856\n",
       "3   Male  71.730978  220.042470\n",
       "4   Male  69.881796  206.349801"
      ]
     },
     "execution_count": 7,
     "metadata": {},
     "output_type": "execute_result"
    }
   ],
   "source": [
    "df.head()"
   ]
  },
  {
   "cell_type": "code",
   "execution_count": 12,
   "metadata": {},
   "outputs": [],
   "source": [
    "X = df[['Height']].values\n",
    "y_true = df[['Weight']].values"
   ]
  },
  {
   "cell_type": "code",
   "execution_count": 13,
   "metadata": {},
   "outputs": [
    {
     "data": {
      "text/plain": [
       "array([[73.84701702],\n",
       "       [68.78190405],\n",
       "       [74.11010539],\n",
       "       ...,\n",
       "       [63.86799221],\n",
       "       [69.03424313],\n",
       "       [61.94424588]])"
      ]
     },
     "execution_count": 13,
     "metadata": {},
     "output_type": "execute_result"
    }
   ],
   "source": [
    "X"
   ]
  },
  {
   "cell_type": "code",
   "execution_count": 14,
   "metadata": {},
   "outputs": [],
   "source": [
    "model = Sequential()\n",
    "model.add(Dense(1, input_shape=(1,)))"
   ]
  },
  {
   "cell_type": "code",
   "execution_count": 16,
   "metadata": {},
   "outputs": [
    {
     "name": "stdout",
     "output_type": "stream",
     "text": [
      "_________________________________________________________________\n",
      "Layer (type)                 Output Shape              Param #   \n",
      "=================================================================\n",
      "dense_1 (Dense)              (None, 1)                 2         \n",
      "=================================================================\n",
      "Total params: 2\n",
      "Trainable params: 2\n",
      "Non-trainable params: 0\n",
      "_________________________________________________________________\n"
     ]
    }
   ],
   "source": [
    "model.summary()"
   ]
  },
  {
   "cell_type": "code",
   "execution_count": 17,
   "metadata": {},
   "outputs": [],
   "source": [
    "model.compile(Adam(lr=0.8), 'mean_squared_error')"
   ]
  },
  {
   "cell_type": "code",
   "execution_count": 26,
   "metadata": {},
   "outputs": [
    {
     "name": "stdout",
     "output_type": "stream",
     "text": [
      "Epoch 1/35\n",
      "10000/10000 [==============================] - 0s 33us/step - loss: 174.3519\n",
      "Epoch 2/35\n",
      "10000/10000 [==============================] - 0s 29us/step - loss: 190.4071\n",
      "Epoch 3/35\n",
      "10000/10000 [==============================] - 0s 29us/step - loss: 169.2329\n",
      "Epoch 4/35\n",
      "10000/10000 [==============================] - 0s 37us/step - loss: 179.8327\n",
      "Epoch 5/35\n",
      "10000/10000 [==============================] - 0s 32us/step - loss: 170.3433\n",
      "Epoch 6/35\n",
      "10000/10000 [==============================] - 0s 28us/step - loss: 178.3393\n",
      "Epoch 7/35\n",
      "10000/10000 [==============================] - 0s 26us/step - loss: 178.9402\n",
      "Epoch 8/35\n",
      "10000/10000 [==============================] - 0s 27us/step - loss: 184.3640\n",
      "Epoch 9/35\n",
      "10000/10000 [==============================] - 0s 27us/step - loss: 177.4983\n",
      "Epoch 10/35\n",
      "10000/10000 [==============================] - 0s 28us/step - loss: 182.1261\n",
      "Epoch 11/35\n",
      "10000/10000 [==============================] - 0s 27us/step - loss: 170.1008\n",
      "Epoch 12/35\n",
      "10000/10000 [==============================] - 0s 27us/step - loss: 177.2290\n",
      "Epoch 13/35\n",
      "10000/10000 [==============================] - 0s 29us/step - loss: 201.0084\n",
      "Epoch 14/35\n",
      "10000/10000 [==============================] - 0s 39us/step - loss: 177.3147\n",
      "Epoch 15/35\n",
      "10000/10000 [==============================] - 0s 37us/step - loss: 170.5998\n",
      "Epoch 16/35\n",
      "10000/10000 [==============================] - 0s 26us/step - loss: 180.7083\n",
      "Epoch 17/35\n",
      "10000/10000 [==============================] - 0s 28us/step - loss: 177.1206\n",
      "Epoch 18/35\n",
      "10000/10000 [==============================] - 0s 28us/step - loss: 180.3505\n",
      "Epoch 19/35\n",
      "10000/10000 [==============================] - 0s 28us/step - loss: 178.9543\n",
      "Epoch 20/35\n",
      "10000/10000 [==============================] - 0s 28us/step - loss: 173.1465\n",
      "Epoch 21/35\n",
      "10000/10000 [==============================] - 0s 27us/step - loss: 173.1026\n",
      "Epoch 22/35\n",
      "10000/10000 [==============================] - 0s 26us/step - loss: 171.8621\n",
      "Epoch 23/35\n",
      "10000/10000 [==============================] - 0s 26us/step - loss: 185.3033\n",
      "Epoch 24/35\n",
      "10000/10000 [==============================] - 0s 39us/step - loss: 180.2113\n",
      "Epoch 25/35\n",
      "10000/10000 [==============================] - 0s 26us/step - loss: 184.5475\n",
      "Epoch 26/35\n",
      "10000/10000 [==============================] - 0s 28us/step - loss: 174.1993\n",
      "Epoch 27/35\n",
      "10000/10000 [==============================] - 0s 26us/step - loss: 190.0809\n",
      "Epoch 28/35\n",
      "10000/10000 [==============================] - 0s 28us/step - loss: 180.8853\n",
      "Epoch 29/35\n",
      "10000/10000 [==============================] - 0s 28us/step - loss: 175.3417\n",
      "Epoch 30/35\n",
      "10000/10000 [==============================] - 0s 27us/step - loss: 169.2505\n",
      "Epoch 31/35\n",
      "10000/10000 [==============================] - 0s 32us/step - loss: 199.0265\n",
      "Epoch 32/35\n",
      "10000/10000 [==============================] - 0s 37us/step - loss: 178.4288\n",
      "Epoch 33/35\n",
      "10000/10000 [==============================] - 0s 27us/step - loss: 165.0996\n",
      "Epoch 34/35\n",
      "10000/10000 [==============================] - 0s 41us/step - loss: 188.6231\n",
      "Epoch 35/35\n",
      "10000/10000 [==============================] - 0s 35us/step - loss: 183.8707\n"
     ]
    },
    {
     "data": {
      "text/plain": [
       "<keras.callbacks.History at 0xebe5ba8>"
      ]
     },
     "execution_count": 26,
     "metadata": {},
     "output_type": "execute_result"
    }
   ],
   "source": [
    "model.fit(X, y_true, epochs=35, verbose=1)"
   ]
  },
  {
   "cell_type": "code",
   "execution_count": 27,
   "metadata": {},
   "outputs": [
    {
     "name": "stdout",
     "output_type": "stream",
     "text": [
      "10000/10000 [==============================] - 0s 16us/step\n"
     ]
    }
   ],
   "source": [
    "y_pred = model.predict(X, verbose=1)"
   ]
  },
  {
   "cell_type": "code",
   "execution_count": 28,
   "metadata": {},
   "outputs": [
    {
     "data": {
      "text/plain": [
       "[<matplotlib.lines.Line2D at 0xee23048>]"
      ]
     },
     "execution_count": 28,
     "metadata": {},
     "output_type": "execute_result"
    },
    {
     "data": {
      "image/png": "[encoded data removed]",
      "text/plain": [
       "<Figure size 432x288 with 1 Axes>"
      ]
     },
     "metadata": {},
     "output_type": "display_data"
    }
   ],
   "source": [
    "df.plot(kind='scatter', x='Height', y='Weight', title='Weight and Height in adults')\n",
    "plt.plot(X, y_pred, color='red',linewidth=3)"
   ]
  },
  {
   "cell_type": "code",
   "execution_count": 29,
   "metadata": {},
   "outputs": [],
   "source": [
    "w, b = model.get_weights()"
   ]
  },
  {
   "cell_type": "code",
   "execution_count": 32,
   "metadata": {},
   "outputs": [
    {
     "data": {
      "text/plain": [
       "array([[7.735091]], dtype=float32)"
      ]
     },
     "execution_count": 32,
     "metadata": {},
     "output_type": "execute_result"
    }
   ],
   "source": [
    "w"
   ]
  },
  {
   "cell_type": "code",
   "execution_count": 33,
   "metadata": {
    "scrolled": false
   },
   "outputs": [
    {
     "data": {
      "text/plain": [
       "array([-350.66], dtype=float32)"
      ]
     },
     "execution_count": 33,
     "metadata": {},
     "output_type": "execute_result"
    }
   ],
   "source": [
    "b"
   ]
  },
  {
   "cell_type": "code",
   "execution_count": null,
   "metadata": {},
   "outputs": [],
   "source": []
  }
 ],
 "metadata": {
  "kernelspec": {
   "display_name": "Python 3",
   "language": "python",
   "name": "python3"
  },
  "language_info": {
   "codemirror_mode": {
    "name": "ipython",
    "version": 3
   },
   "file_extension": ".py",
   "mimetype": "text/x-python",
   "name": "python",
   "nbconvert_exporter": "python",
   "pygments_lexer": "ipython3",
   "version": "3.6.5"
  }
 },
 "nbformat": 4,
 "nbformat_minor": 2
}
